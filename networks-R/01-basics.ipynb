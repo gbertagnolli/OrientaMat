{
 "cells": [
  {
   "cell_type": "markdown",
   "id": "b7832cff",
   "metadata": {},
   "source": [
    "# Network science basics"
   ]
  },
  {
   "cell_type": "markdown",
   "id": "049a782f",
   "metadata": {},
   "source": [
    "Un _grafo_ è una coppia $G = (V, E)$. Gli elementi $v \\in V$ sono chiamati _vertici_. $E \\subset V \\times V$ e i suoi elementi $(i, j) \\in E$, tali che $i, j \\in V$, sono chimati _archi_.\n",
    "\n",
    "**Sinonimi**:\n",
    "* grafo: rete (EN: network)\n",
    "* vertici: nodi, attori, unità, elementi\n",
    "* archi: links, connessioni, spigoli"
   ]
  },
  {
   "cell_type": "code",
   "execution_count": null,
   "id": "38063f8f",
   "metadata": {},
   "outputs": [],
   "source": [
    "library(igraph)\n",
    "igraph_options(vertex.frame.color = \"white\", vertex.frame.size = 1)"
   ]
  },
  {
   "cell_type": "code",
   "execution_count": null,
   "id": "21e088ab",
   "metadata": {},
   "outputs": [],
   "source": [
    "G <- make_graph(edges = c(\"a\", \"b\", \"b\", \"c\", \"a\", \"d\", \"c\", \"d\", \"a\", \"e\"), directed = FALSE)\n",
    "plot(G)"
   ]
  },
  {
   "cell_type": "code",
   "execution_count": null,
   "id": "7241776a",
   "metadata": {},
   "outputs": [],
   "source": [
    "G <- make_graph(edges = c(\"a\", \"b\", \"b\", \"c\", \"a\", \"d\", \"c\", \"d\", \"a\", \"e\", \"h\", \"i\", \"h\", \"j\", \"h\", \"k\"), \n",
    "                isolates = c(\"f\", \"g\"),\n",
    "                directed = FALSE)\n",
    "plot(G)"
   ]
  },
  {
   "cell_type": "code",
   "execution_count": null,
   "id": "e636f8b8",
   "metadata": {},
   "outputs": [],
   "source": [
    "V(G)\n",
    "E(G)"
   ]
  },
  {
   "cell_type": "markdown",
   "id": "613188c3",
   "metadata": {},
   "source": [
    "#### Osservazione:\n",
    "\n",
    "In programmazione, solitamente, è sconsigliato usare lettere maiuscole come nomi di variabili, però in questo caso facciamo un'eccezione. La notazione `V(G)` della cella precedente è identica a quella che useremmo in matematica per riferirci all'insieme dei vertici di $G$."
   ]
  },
  {
   "cell_type": "markdown",
   "id": "2186c407",
   "metadata": {},
   "source": [
    "## Un po' di storia: quando sono \"nati\" i grafi e la teoria dei grafi?\n",
    "\n",
    "* I sette ponti di Königsberg: \n",
    "> _E' possibile fare un giro della città di Königsberg, attraversando tutti i ponti una e una sola volta (tornando o meno al punto di partenza)?_\n",
    "\n",
    "Eulero (orig. Leonhard Euler), nel 1736, risponde a questa domanda utilizzando ponendo le fondamenta di quella che sarà la teoria dei grafi!\n",
    "\n",
    "![I sette ponti di Königsberg](https://upload.wikimedia.org/wikipedia/commons/5/5d/Konigsberg_bridges.png)"
   ]
  },
  {
   "cell_type": "code",
   "execution_count": null,
   "id": "34ec6a35",
   "metadata": {},
   "outputs": [],
   "source": [
    "library(igraphdata)\n",
    "data(Koenigsberg)"
   ]
  },
  {
   "cell_type": "code",
   "execution_count": null,
   "id": "29c5bcf3",
   "metadata": {},
   "outputs": [],
   "source": [
    "Koenigsberg_layout <- layout_nicely(Koenigsberg)\n",
    "plot(Koenigsberg, layout = Koenigsberg_layout)"
   ]
  },
  {
   "cell_type": "code",
   "execution_count": null,
   "id": "c2493479",
   "metadata": {},
   "outputs": [],
   "source": [
    "G1 <- make_graph(edges = c(\"K\", \"V\", \"V\", \"L\", \"L\", \"A\", \"A\", \"K\"))\n",
    "plot(G1, layout = Koenigsberg_layout)"
   ]
  },
  {
   "cell_type": "markdown",
   "id": "8c850987",
   "metadata": {},
   "source": [
    "Passeggiata chiusa, o _circuito_.\n",
    "Un circuito Euleriano su un multigrafo è un circuito che tocca tutti i suoi archi una e una sola volta.\n",
    "\n",
    "Notiamo che..."
   ]
  },
  {
   "cell_type": "code",
   "execution_count": null,
   "id": "09ec6970",
   "metadata": {},
   "outputs": [],
   "source": [
    "G2 <- make_graph(edges = c(\"K\", \"V\", \"V\", \"L\", \"L\", \"A\", \"A\", \"K\", \"V\", \"A\"))\n",
    "plot(G2, layout = Koenigsberg_layout)"
   ]
  },
  {
   "cell_type": "markdown",
   "id": "630e7b0f",
   "metadata": {},
   "source": [
    "Partendo dal nodo V arriviamo al nodo A. \n",
    "Un cammino Euleriano su un multigrafo è un cammino che tocca tutti i suoi archi una e una sola volta.\n",
    "\n",
    "Notiamo che..."
   ]
  },
  {
   "cell_type": "markdown",
   "id": "ca79a6aa",
   "metadata": {},
   "source": [
    "### Dall'astrazione, alla generalizzazione: Il teorema di Eulero\n",
    "\n",
    "Un grafo connesso possiede un circuito Euleriano se e solo se tutti i suoi vertici hanno grado pari.\n",
    "\n",
    "Quando consideriamo cammini Euleriani, ammettiamo che esattamente due vertici (quello iniziale e quello finale) abbiano grado dispari."
   ]
  },
  {
   "cell_type": "code",
   "execution_count": null,
   "id": "c9fef036",
   "metadata": {},
   "outputs": [],
   "source": [
    "degree(Koenigsberg)"
   ]
  },
  {
   "cell_type": "markdown",
   "id": "8ea05e5f",
   "metadata": {},
   "source": [
    "Un altro tipico esempio di un problema reale risolto tramite la teoria dei grafi è quello dei quattro colori (o cinque, nella sua versione più semplice). Si veda [la mia presentazione per OrientaEstate 2019](https://gbertagnolli.github.io/post/2019-08-23-network-science/).\n",
    "\n",
    "\n",
    "## Dai grafi alle reti complesse\n",
    "\n",
    "Quando usiamo l'astrazione in termini di nodi e connessioni per rappresentare un sistema complesso, quel che ne risulta viene chiamata rete complessa (complex network).\n",
    "\n",
    "* Cos'è un sistema complesso?\n",
    "* Esempi di reti, come astrazioni di sistemi reali"
   ]
  },
  {
   "cell_type": "markdown",
   "id": "0a007240",
   "metadata": {},
   "source": [
    "## References\n",
    "\n",
    "\n",
    "[Complexity Explained](https://complexityexplained.github.io/) and \n",
    "[Complexity Explained (ITA)](https://complexityexplained.github.io/ComplexityExplained[Italian].pdf)\n",
    "\n",
    "[Complexity explorables, Dirk Brockmann](http://www.complexity-explorables.org/)\n",
    "\n",
    "---\n",
    "\n",
    "\n",
    "Ognyanova, K. (2016) *Networks analysis with R and igraph: NetSci X Tutorial.* Retrieved from [www.kateto.net/networks-r-igraph](http://kateto.net/networks-r-igraph).\n",
    "\n",
    "[R igraph manual pages](https://igraph.org/r/doc/)\n",
    "\n",
    "[Networkx tutorial](https://networkx.org/documentation/stable/tutorial.html)\n",
    "\n",
    "[Network analysis with Julia](https://github.com/JuliaGraphs/JuliaGraphsTutorials)\n",
    "\n"
   ]
  },
  {
   "cell_type": "markdown",
   "id": "30e6c14b",
   "metadata": {},
   "source": [
    "## Appendice"
   ]
  },
  {
   "cell_type": "markdown",
   "id": "fc1d0890",
   "metadata": {},
   "source": [
    "Salviamo il multigrafo dei ponti di Koenigsberg come edgelist\n",
    "`write_graph(Koenigsberg, file = \"../data/Koenigsberg.edgelist\", format = \"gml\")`\n",
    "\n",
    "Per leggere questa edgelist in python come un multigrafo, dobbiamo aggiungere manualmente `multigraph 1` nelle prime righe del file, con gli altri attributi del grafo (vedi file in `data/`.\n"
   ]
  }
 ],
 "metadata": {
  "kernelspec": {
   "display_name": "R",
   "language": "R",
   "name": "ir"
  },
  "language_info": {
   "codemirror_mode": "r",
   "file_extension": ".r",
   "mimetype": "text/x-r-source",
   "name": "R",
   "pygments_lexer": "r",
   "version": "4.3.0"
  }
 },
 "nbformat": 4,
 "nbformat_minor": 5
}
