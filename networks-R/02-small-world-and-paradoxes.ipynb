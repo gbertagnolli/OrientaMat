{
 "cells": [
  {
   "cell_type": "markdown",
   "id": "7c42b29b",
   "metadata": {},
   "source": [
    "# Bizzarrie e paradossi nella scienza delle reti\n",
    "\n",
    "In questo notebook vedremo due \"bizzarrie\" delle reti: il fenomeno del **piccolo mondo** e il paradosso dell'amicizia, ossia il fatto che _i nostri amici hanno più amici di noi_."
   ]
  },
  {
   "cell_type": "code",
   "execution_count": null,
   "id": "8c9be095",
   "metadata": {},
   "outputs": [],
   "source": [
    "library(igraph)\n",
    "igraph_options(vertex.frame.color = \"white\", vertex.frame.size = 1)"
   ]
  },
  {
   "cell_type": "markdown",
   "id": "0e0025f1",
   "metadata": {},
   "source": [
    "## Il fenomeno _small-world_\n",
    "\n",
    "Qualche riferimento:\n",
    "\n",
    "* esperimento del piccolo mondo di S. Milgram (1968-1970) e i sei gradi di separazione\n",
    "* Il modello di Duncan J. Watts e Steven Strogatz (1998)"
   ]
  },
  {
   "cell_type": "markdown",
   "id": "11df4068",
   "metadata": {},
   "source": [
    "Abbiamo bisogno di qualche definizione:\n",
    "\n",
    "#### Lunghezza media di un cammino\n",
    "\n",
    "Sia $G = (V, E)$ un grafo/\n",
    "\n",
    "* Cammino $(v_0, v_1, \\dots, v_n)$ dove $v_i \\in V$ per ogni $i = 0, \\dots, n$ e $v_i$ è connesso (è adiacente) a $v_{i+1}$. (NB: in realtà chiediamo che non ci siano ripetizioni dello stesso nodo in questa successione. Perché?)\n",
    "* La lunghezza del cammino $(v_0, v_1, \\dots, v_n)$ è $n$.\n",
    "\n",
    "Per trovare la lunghezza media di una cammino nel grafo $G$ troviamo tutti i cammini, calcoliamo la loro lunghezza e poi facciamo la media artitmetica."
   ]
  },
  {
   "cell_type": "code",
   "execution_count": null,
   "id": "2fdf19b6",
   "metadata": {},
   "outputs": [],
   "source": [
    "library(igraphdata)\n",
    "data(package = \"igraphdata\")"
   ]
  },
  {
   "cell_type": "code",
   "execution_count": null,
   "id": "ba53b69a",
   "metadata": {},
   "outputs": [],
   "source": [
    "data(USairports)\n",
    "summary(USairports)"
   ]
  },
  {
   "cell_type": "markdown",
   "id": "775ea956",
   "metadata": {},
   "source": [
    "Vediamo alcune proprietà di questa rete e se in questa rete di aeroporti possiamo vedere il fenomeno _small-world_."
   ]
  },
  {
   "cell_type": "code",
   "execution_count": null,
   "id": "90b51344",
   "metadata": {},
   "outputs": [],
   "source": [
    "er <- sample_gnp(n = 25, p = .1)\n",
    "plot(er, vertex.label = NA)"
   ]
  },
  {
   "cell_type": "code",
   "execution_count": null,
   "id": "efded146",
   "metadata": {},
   "outputs": [],
   "source": [
    "mean_distance(er)"
   ]
  },
  {
   "cell_type": "code",
   "execution_count": null,
   "id": "c57413da",
   "metadata": {},
   "outputs": [],
   "source": [
    "transitivity(er, type = \"average\")"
   ]
  },
  {
   "cell_type": "markdown",
   "id": "c0da0f8b",
   "metadata": {},
   "source": [
    "### Il modello Watts-Strogatz\n",
    "\n",
    "Due ingredienti principali: presenza di raggruppamenti di nodi in sotto-reti ben connesse e, ovviamente, cammini con lunghezza media bassa.\n",
    "\n",
    "Vediamo di ri-costruire il modello."
   ]
  },
  {
   "cell_type": "code",
   "execution_count": null,
   "id": "465a52d2",
   "metadata": {},
   "outputs": [],
   "source": [
    "g <- make_lattice(length = 5, dim = 2, nei = 2) \n",
    "g |> plot(vertex.label = NA, layout = layout_on_grid)"
   ]
  },
  {
   "cell_type": "code",
   "execution_count": null,
   "id": "be87f938",
   "metadata": {},
   "outputs": [],
   "source": [
    "mean_distance(g)\n",
    "transitivity(g, type=\"average\")"
   ]
  },
  {
   "cell_type": "code",
   "execution_count": null,
   "id": "73bca1ea",
   "metadata": {},
   "outputs": [],
   "source": [
    "sw <- sample_smallworld(dim = 2, size = 5, nei = 2, p = .1)\n",
    "plot(sw, vertex.label = NA, layout = layout_on_grid)"
   ]
  },
  {
   "cell_type": "code",
   "execution_count": null,
   "id": "282ca510",
   "metadata": {},
   "outputs": [],
   "source": [
    "mean_distance(sw)\n",
    "transitivity(sw, type = \"average\")"
   ]
  },
  {
   "cell_type": "markdown",
   "id": "143fe081",
   "metadata": {},
   "source": [
    "## Il paradosso dell'amicizia\n",
    "\n",
    "Il problema arriva, di nuovo, dalla sociologia: 1991, Scott L. Feld [eld, Scott L. (1991), \"Why your friends have more friends than you do\", American Journal of Sociology, 96 (6): 1464–1477](doi.org/10.1086/229693).\n",
    "\n",
    "... Matematicamente...\n",
    "\n",
    "1. Astrazione\n",
    "\n",
    "Assumiamo che:\n",
    "\n",
    "* (i) la rete degli amici sia rappresentata da un grafo non diretto $G = (V, E)$\n",
    "* il numero medio di amici di una persona (nodo nel grafo) è quindi il grado medio della rete"
   ]
  },
  {
   "cell_type": "code",
   "execution_count": null,
   "id": "db8129db",
   "metadata": {},
   "outputs": [],
   "source": [
    "degree(er) |> hist()"
   ]
  },
  {
   "cell_type": "markdown",
   "id": "ef7a3237",
   "metadata": {},
   "source": [
    "Chiamiamo $m = |E|$ il numero di link nella rete $G$. Tagliamoli: ci saranno $2m$ mezzi-archi.\n",
    "\n",
    "Scegliamo un semi-arco e vediamo dove ci porta:\n",
    "\n",
    "* a un nodo di grado 0 (un nodo isolato)\n",
    "* a un nodo di grado $k \\neq 0$\n",
    "\n",
    "DOMANDE:\n",
    "\n",
    "1. Qual è la probabilità che il semi-link che sto seguendo mi porti a un nodo che, oltre al semi-link che sto seguendo, abbia altri $k$ semi-link? (ricordiamo qui come calcolare questa probabilità: è il rapporto fra casi favorevoli e casi possibili).\n",
    "\n",
    "2. Ora abbiamo la probabilità di arrivare ad un particolare nodo di grado $k$. Ma quanti sono i nodi della rete che hanno grado $k$? $p(k) \\cdot N$.\n",
    "\n",
    "3. Qual è la probabilità che il mio semi-arco sia connesso ad un qualsiasi nodo di grado $k$?"
   ]
  },
  {
   "cell_type": "code",
   "execution_count": null,
   "id": "965d0b29",
   "metadata": {},
   "outputs": [],
   "source": [
    "print_answ <- function() {\n",
    "    cat(\n",
    "        \"1. k / (2m - 1)\\n2. N p(k)\\n3. ...\"\n",
    "    )\n",
    "}\n",
    "print_answ()"
   ]
  },
  {
   "cell_type": "markdown",
   "id": "a7ea1beb",
   "metadata": {},
   "source": [
    "Da cui otteniamo che la probabilità di trovare un nodo di grado $k$ **seguendo un link preso a caso** è\n",
    "$$\n",
    "q(k) = \\frac{k p(k)}{\\langle k \\rangle} = \\frac{k p(k)}{\\sum_k k p(k)}.\n",
    "$$\n",
    "\n",
    "Visto che troviamo un nodo seguendo un link, ognuno di questi nodi sarà il _vicino di qualcuno_, o _l'amico di qualcuno_.\n",
    "\n",
    "Quindi andiamo a vedere il paradosso: \n",
    "\n",
    "## \"Your friends have more freinds than you do\".\n",
    "\n",
    "Scriviamolo assieme e sveliamo il paradosso."
   ]
  },
  {
   "cell_type": "code",
   "execution_count": null,
   "id": "96b81294",
   "metadata": {},
   "outputs": [],
   "source": []
  }
 ],
 "metadata": {
  "kernelspec": {
   "display_name": "R",
   "language": "R",
   "name": "ir"
  },
  "language_info": {
   "codemirror_mode": "r",
   "file_extension": ".r",
   "mimetype": "text/x-r-source",
   "name": "R",
   "pygments_lexer": "r",
   "version": "4.3.0"
  }
 },
 "nbformat": 4,
 "nbformat_minor": 5
}
