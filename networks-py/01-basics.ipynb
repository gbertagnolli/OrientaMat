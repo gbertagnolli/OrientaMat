{
 "cells": [
  {
   "cell_type": "markdown",
   "id": "0ea04455",
   "metadata": {},
   "source": [
    "# Network science basics"
   ]
  },
  {
   "cell_type": "markdown",
   "id": "b0c9e9bd",
   "metadata": {},
   "source": [
    "Un _grafo_ è una coppia $G = (V, E)$. Gli elementi $v \\in V$ sono chiamati _vertici_. $E \\subset V \\times V$ e i suoi elementi $(i, j) \\in E$, tali che $i, j \\in V$, sono chimati _archi_.\n",
    "\n",
    "**Sinonimi**:\n",
    "* grafo: rete (EN: network)\n",
    "* vertici: nodi, attori, unità, elementi\n",
    "* archi: links, connessioni, spigoli"
   ]
  },
  {
   "cell_type": "code",
   "execution_count": 1,
   "id": "1c10fcc8",
   "metadata": {},
   "outputs": [],
   "source": [
    "import networkx as nx\n",
    "G = nx.Graph()"
   ]
  },
  {
   "cell_type": "code",
   "execution_count": 4,
   "id": "e09a5a22",
   "metadata": {},
   "outputs": [],
   "source": [
    "G.add_node(1)\n",
    "G.add_nodes_from([2, 3])"
   ]
  },
  {
   "cell_type": "code",
   "execution_count": 5,
   "id": "f0f3cfb6",
   "metadata": {},
   "outputs": [
    {
     "data": {
      "text/plain": [
       "3"
      ]
     },
     "execution_count": 5,
     "metadata": {},
     "output_type": "execute_result"
    }
   ],
   "source": [
    "G.number_of_nodes()"
   ]
  },
  {
   "cell_type": "code",
   "execution_count": 6,
   "id": "ba1c0bbb",
   "metadata": {},
   "outputs": [
    {
     "data": {
      "text/plain": [
       "NodeView((1, 2, 3))"
      ]
     },
     "execution_count": 6,
     "metadata": {},
     "output_type": "execute_result"
    }
   ],
   "source": [
    "G.nodes()"
   ]
  },
  {
   "cell_type": "code",
   "execution_count": 7,
   "id": "5c190e84",
   "metadata": {},
   "outputs": [],
   "source": [
    "G.add_edge(2, 3)\n",
    "G.add_edges_from([(1, 2), (1, 3)])"
   ]
  },
  {
   "cell_type": "code",
   "execution_count": 8,
   "id": "9bb5cfe3",
   "metadata": {},
   "outputs": [
    {
     "data": {
      "text/plain": [
       "3"
      ]
     },
     "execution_count": 8,
     "metadata": {},
     "output_type": "execute_result"
    }
   ],
   "source": [
    "G.number_of_edges()"
   ]
  },
  {
   "cell_type": "code",
   "execution_count": 9,
   "id": "6583114d",
   "metadata": {},
   "outputs": [
    {
     "data": {
      "text/plain": [
       "[(1, 2), (1, 3), (2, 3)]"
      ]
     },
     "execution_count": 9,
     "metadata": {},
     "output_type": "execute_result"
    }
   ],
   "source": [
    "list(G.edges)"
   ]
  },
  {
   "cell_type": "code",
   "execution_count": 10,
   "id": "e89f5d51",
   "metadata": {},
   "outputs": [],
   "source": [
    "edgelist = [(0, 1), (1, 2), (2, 3)]\n",
    "H = nx.Graph(edgelist)  # create a graph from an edge list"
   ]
  },
  {
   "cell_type": "markdown",
   "id": "3a800ab7",
   "metadata": {},
   "source": [
    "## Un po' di storia: quando sono \"nati\" i grafi e la teoria dei grafi?\n",
    "\n",
    "* I sette ponti di Königsberg: \n",
    "> _E' possibile fare un giro della città di Königsberg, attraversando tutti i ponti una e una sola volta (tornando o meno al punto di partenza)?_\n",
    "\n",
    "Eulero (orig. Leonhard Euler), nel 1736, risponde a questa domanda utilizzando ponendo le fondamenta di quella che sarà la teoria dei grafi!\n",
    "\n",
    "![I sette ponti di Königsberg](https://upload.wikimedia.org/wikipedia/commons/5/5d/Konigsberg_bridges.png)"
   ]
  },
  {
   "cell_type": "code",
   "execution_count": 50,
   "id": "2727a0f5",
   "metadata": {},
   "outputs": [],
   "source": [
    "K = nx.read_gml(\"../data/Koenigsberg.edgelist\", label = 'name')"
   ]
  },
  {
   "cell_type": "code",
   "execution_count": 52,
   "id": "ec2360ac",
   "metadata": {},
   "outputs": [
    {
     "data": {
      "text/plain": [
       "NodeView(('Altstadt-Loebenicht', 'Kneiphof', 'Vorstadt-Haberberg', 'Lomse'))"
      ]
     },
     "execution_count": 52,
     "metadata": {},
     "output_type": "execute_result"
    }
   ],
   "source": [
    "K.nodes()"
   ]
  },
  {
   "cell_type": "code",
   "execution_count": 51,
   "id": "5427060e",
   "metadata": {},
   "outputs": [
    {
     "data": {
      "text/plain": [
       "7"
      ]
     },
     "execution_count": 51,
     "metadata": {},
     "output_type": "execute_result"
    }
   ],
   "source": [
    "K.number_of_edges()"
   ]
  },
  {
   "cell_type": "code",
   "execution_count": 57,
   "id": "25e62fcd",
   "metadata": {},
   "outputs": [
    {
     "data": {
      "text/plain": [
       "True"
      ]
     },
     "execution_count": 57,
     "metadata": {},
     "output_type": "execute_result"
    }
   ],
   "source": [
    "K.is_multigraph()"
   ]
  },
  {
   "cell_type": "markdown",
   "id": "64b58021",
   "metadata": {},
   "source": [
    "**Osservazione**: il grafo dei ponti di Königsberg è in realtà un _multigrafo_ poiché ci sono più archi che connettono due vertici. In un grafo semplice non ci sono archi multipli e nemmeno cappi (self-loops)."
   ]
  },
  {
   "cell_type": "code",
   "execution_count": 29,
   "id": "67614f34",
   "metadata": {},
   "outputs": [],
   "source": [
    "import matplotlib.pyplot as plt\n",
    "# import numpy as np\n",
    "%matplotlib inline"
   ]
  },
  {
   "cell_type": "code",
   "execution_count": null,
   "id": "779ea9a1",
   "metadata": {},
   "outputs": [],
   "source": [
    "nx.draw(K)"
   ]
  },
  {
   "cell_type": "code",
   "execution_count": 61,
   "id": "030b9e5e",
   "metadata": {},
   "outputs": [],
   "source": [
    "edgelist = [(0, 1), (1, 2), (2, 3), (3, 1)]\n",
    "G1 = nx.Graph(edgelist)"
   ]
  },
  {
   "cell_type": "code",
   "execution_count": null,
   "id": "54a49933",
   "metadata": {},
   "outputs": [],
   "source": [
    "nx.draw(G1)"
   ]
  },
  {
   "cell_type": "markdown",
   "id": "9d077fe1",
   "metadata": {},
   "source": [
    "Passeggiata chiusa, o _circuito_.\n",
    "Un circuito Euleriano su un multigrafo è un circuito che tocca tutti i suoi archi una e una sola volta.\n",
    "\n",
    "Notiamo che..."
   ]
  },
  {
   "cell_type": "code",
   "execution_count": null,
   "id": "23e08637",
   "metadata": {},
   "outputs": [],
   "source": [
    "G2 = G1\n",
    "G2.add_edge(0, 3)\n",
    "nx.draw(G2)"
   ]
  },
  {
   "cell_type": "markdown",
   "id": "317b87cc",
   "metadata": {},
   "source": [
    "Partendo dal nodo V arriviamo al nodo A. \n",
    "Un cammino Euleriano su un multigrafo è un cammino che tocca tutti i suoi archi una e una sola volta.\n",
    "\n",
    "Notiamo che..."
   ]
  },
  {
   "cell_type": "markdown",
   "id": "e056ecb3",
   "metadata": {},
   "source": [
    "### Dall'astrazione, alla generalizzazione: Il teorema di Eulero\n",
    "\n",
    "Un grafo connesso possiede un circuito Euleriano se e solo se tutti i suoi vertici hanno grado pari.\n",
    "\n",
    "Quando consideriamo cammini Euleriani, ammettiamo che esattamente due vertici (quello iniziale e quello finale) abbiano grado dispari."
   ]
  },
  {
   "cell_type": "code",
   "execution_count": 63,
   "id": "953dffd4",
   "metadata": {},
   "outputs": [
    {
     "data": {
      "text/plain": [
       "MultiDegreeView({'Altstadt-Loebenicht': 3, 'Kneiphof': 5, 'Vorstadt-Haberberg': 3, 'Lomse': 3})"
      ]
     },
     "execution_count": 63,
     "metadata": {},
     "output_type": "execute_result"
    }
   ],
   "source": [
    "K.degree()"
   ]
  },
  {
   "cell_type": "markdown",
   "id": "383f405a",
   "metadata": {},
   "source": [
    "Un altro tipico esempio di un problema reale risolto tramite la teoria dei grafi è quello dei quattro colori (o cinque, nella sua versione più semplice). Si veda [la mia presentazione per OrientaEstate 2019](https://gbertagnolli.github.io/post/2019-08-23-network-science/).\n",
    "\n",
    "\n",
    "## Dai grafi alle reti complesse\n",
    "\n",
    "Quando usiamo l'astrazione in termini di nodi e connessioni per rappresentare un sistema complesso, quel che ne risulta viene chiamata rete complessa (complex network).\n",
    "\n",
    "* Cos'è un sistema complesso?\n",
    "* Esempi di reti, come astrazioni di sistemi reali"
   ]
  },
  {
   "cell_type": "markdown",
   "id": "e4cb9289",
   "metadata": {},
   "source": [
    "## References\n",
    "\n",
    "\n",
    "\n",
    "---\n",
    "\n",
    "[R igraph manual pages](https://igraph.org/r/doc/)\n",
    "\n",
    "[Networkx tutorial](https://networkx.org/documentation/stable/tutorial.html)\n",
    "\n",
    "[Network analysis with Julia](https://github.com/JuliaGraphs/JuliaGraphsTutorials)\n",
    "\n"
   ]
  }
 ],
 "metadata": {
  "kernelspec": {
   "display_name": "Python 3 (ipykernel)",
   "language": "python",
   "name": "python3"
  },
  "language_info": {
   "codemirror_mode": {
    "name": "ipython",
    "version": 3
   },
   "file_extension": ".py",
   "mimetype": "text/x-python",
   "name": "python",
   "nbconvert_exporter": "python",
   "pygments_lexer": "ipython3",
   "version": "3.8.10"
  }
 },
 "nbformat": 4,
 "nbformat_minor": 5
}
