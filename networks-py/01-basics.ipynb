{
 "cells": [
  {
   "cell_type": "markdown",
   "id": "0ea04455",
   "metadata": {},
   "source": [
    "# Network science basics"
   ]
  },
  {
   "cell_type": "markdown",
   "id": "e6df38ef",
   "metadata": {},
   "source": [
    "Un _grafo_ è una coppia $G = (V, E)$. Gli elementi $v \\in V$ sono chiamati _vertici_. $E \\subset V \\times V$ e i suoi elementi $(i, j) \\in E$, tali che $i, j \\in V$, sono chimati _archi_.\n",
    "\n",
    "**Sinonimi**:\n",
    "* grafo: rete (EN: network)\n",
    "* vertici: nodi, attori, unità, elementi\n",
    "* archi: links, connessioni, spigoli"
   ]
  },
  {
   "cell_type": "code",
   "execution_count": 1,
   "id": "1c10fcc8",
   "metadata": {},
   "outputs": [],
   "source": [
    "import networkx as nx\n",
    "G = nx.Graph()"
   ]
  },
  {
   "cell_type": "code",
   "execution_count": 4,
   "id": "a73c7e1d",
   "metadata": {},
   "outputs": [],
   "source": [
    "G.add_node(1)\n",
    "G.add_nodes_from([2, 3])"
   ]
  },
  {
   "cell_type": "code",
   "execution_count": 5,
   "id": "02268ebf",
   "metadata": {},
   "outputs": [
    {
     "data": {
      "text/plain": [
       "3"
      ]
     },
     "execution_count": 5,
     "metadata": {},
     "output_type": "execute_result"
    }
   ],
   "source": [
    "G.number_of_nodes()"
   ]
  },
  {
   "cell_type": "code",
   "execution_count": 6,
   "id": "ab35fb12",
   "metadata": {},
   "outputs": [
    {
     "data": {
      "text/plain": [
       "NodeView((1, 2, 3))"
      ]
     },
     "execution_count": 6,
     "metadata": {},
     "output_type": "execute_result"
    }
   ],
   "source": [
    "G.nodes()"
   ]
  },
  {
   "cell_type": "code",
   "execution_count": 7,
   "id": "1c3328b7",
   "metadata": {},
   "outputs": [],
   "source": [
    "G.add_edge(2, 3)\n",
    "G.add_edges_from([(1, 2), (1, 3)])"
   ]
  },
  {
   "cell_type": "code",
   "execution_count": 8,
   "id": "ae729258",
   "metadata": {},
   "outputs": [
    {
     "data": {
      "text/plain": [
       "3"
      ]
     },
     "execution_count": 8,
     "metadata": {},
     "output_type": "execute_result"
    }
   ],
   "source": [
    "G.number_of_edges()"
   ]
  },
  {
   "cell_type": "code",
   "execution_count": 9,
   "id": "5ec14759",
   "metadata": {},
   "outputs": [
    {
     "data": {
      "text/plain": [
       "[(1, 2), (1, 3), (2, 3)]"
      ]
     },
     "execution_count": 9,
     "metadata": {},
     "output_type": "execute_result"
    }
   ],
   "source": [
    "list(G.edges)"
   ]
  },
  {
   "cell_type": "code",
   "execution_count": 10,
   "id": "820d23b1",
   "metadata": {},
   "outputs": [],
   "source": [
    "edgelist = [(0, 1), (1, 2), (2, 3)]\n",
    "H = nx.Graph(edgelist)  # create a graph from an edge list"
   ]
  },
  {
   "cell_type": "markdown",
   "id": "0de4a1d1",
   "metadata": {},
   "source": [
    "## Un po' di storia: quando sono \"nati\" i grafi e la teoria dei grafi?\n",
    "\n",
    "* I sette ponti di Königsberg: \n",
    "> _E' possibile fare un giro della città di Königsberg, attraversando tutti i ponti una e una sola volta (tornando o meno al punto di partenza)?_\n",
    "\n",
    "Eulero (orig. Leonhard Euler), nel 1736, risponde a questa domanda utilizzando ponendo le fondamenta di quella che sarà la teoria dei grafi!\n",
    "\n",
    "![I sette ponti di Königsberg](https://upload.wikimedia.org/wikipedia/commons/5/5d/Konigsberg_bridges.png)"
   ]
  },
  {
   "cell_type": "code",
   "execution_count": 20,
   "id": "fa93ad63",
   "metadata": {},
   "outputs": [
    {
     "data": {
      "text/plain": [
       "['Honey Bridge',\n",
       " \"Blacksmith's Bridge\",\n",
       " 'Green Bridge',\n",
       " 'Connecting Bridge',\n",
       " \"Merchant's Bridge\",\n",
       " 'High Bridge',\n",
       " 'Wooden Bridge']"
      ]
     },
     "execution_count": 20,
     "metadata": {},
     "output_type": "execute_result"
    }
   ],
   "source": [
    "K = nx.MultiGraph(name=\"Königsberg\")\n",
    "K.add_edges_from([(\"A\",\"B\",\"Honey Bridge\"),\n",
    "                  (\"A\",\"B\",\"Blacksmith's Bridge\"),\n",
    "                  (\"A\",\"C\",\"Green Bridge\"),\n",
    "                  (\"A\",\"C\",\"Connecting Bridge\"),\n",
    "                  (\"A\",\"D\",\"Merchant's Bridge\"),\n",
    "                  (\"C\",\"D\",\"High Bridge\"),\n",
    "                  (\"B\",\"D\",\"Wooden Bridge\")])"
   ]
  },
  {
   "cell_type": "code",
   "execution_count": 21,
   "id": "bf63ecbc",
   "metadata": {},
   "outputs": [
    {
     "data": {
      "text/plain": [
       "7"
      ]
     },
     "execution_count": 21,
     "metadata": {},
     "output_type": "execute_result"
    }
   ],
   "source": [
    "K.number_of_edges()"
   ]
  },
  {
   "cell_type": "markdown",
   "id": "7b50a6b8",
   "metadata": {},
   "source": [
    "**Osservazione**: il grafo dei ponti di Königsberg è in realtà un _multigrafo_ poiché ci sono più archi che connettono due vertici. In un grafo semplice non ci sono archi multipli e nemmeno cappi (self-loops)."
   ]
  },
  {
   "cell_type": "code",
   "execution_count": 29,
   "id": "d9f6a867",
   "metadata": {},
   "outputs": [],
   "source": [
    "import matplotlib.pyplot as plt\n",
    "# import numpy as np\n",
    "%matplotlib inline"
   ]
  },
  {
   "cell_type": "code",
   "execution_count": null,
   "id": "e0de207e",
   "metadata": {},
   "outputs": [],
   "source": [
    "nx.draw(G)"
   ]
  },
  {
   "cell_type": "markdown",
   "id": "fce03543",
   "metadata": {},
   "source": [
    "## References\n",
    "\n",
    "\n",
    "\n",
    "---\n",
    "\n",
    "[R igraph manual pages](https://igraph.org/r/doc/)\n",
    "\n",
    "[Networkx tutorial](https://networkx.org/documentation/stable/tutorial.html)\n",
    "\n",
    "[Network analysis with Julia](https://github.com/JuliaGraphs/JuliaGraphsTutorials)\n",
    "\n"
   ]
  }
 ],
 "metadata": {
  "kernelspec": {
   "display_name": "Python 3 (ipykernel)",
   "language": "python",
   "name": "python3"
  },
  "language_info": {
   "codemirror_mode": {
    "name": "ipython",
    "version": 3
   },
   "file_extension": ".py",
   "mimetype": "text/x-python",
   "name": "python",
   "nbconvert_exporter": "python",
   "pygments_lexer": "ipython3",
   "version": "3.8.10"
  }
 },
 "nbformat": 4,
 "nbformat_minor": 5
}
