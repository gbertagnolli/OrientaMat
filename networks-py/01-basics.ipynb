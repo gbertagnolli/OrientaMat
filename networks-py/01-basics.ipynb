{
 "cells": [
  {
   "cell_type": "markdown",
   "id": "71c38e33",
   "metadata": {},
   "source": [
    "# Network science basics"
   ]
  },
  {
   "cell_type": "code",
   "execution_count": 1,
   "id": "d0a87820",
   "metadata": {},
   "outputs": [],
   "source": [
    "import networkx as nx\n",
    "G = nx.Graph()"
   ]
  },
  {
   "cell_type": "markdown",
   "id": "51cea26c",
   "metadata": {},
   "source": [
    "A network, or a _graph_ is a pair $G = (V, E)$. The elements $v \\in V$ are called _verices_. $E \\subset V \\times V$ and the elements $(i, j) \\in E$, such that $i, j \\in V$, are called _edges_."
   ]
  }
 ],
 "metadata": {
  "kernelspec": {
   "display_name": "Python 3 (ipykernel)",
   "language": "python",
   "name": "python3"
  },
  "language_info": {
   "codemirror_mode": {
    "name": "ipython",
    "version": 3
   },
   "file_extension": ".py",
   "mimetype": "text/x-python",
   "name": "python",
   "nbconvert_exporter": "python",
   "pygments_lexer": "ipython3",
   "version": "3.8.10"
  }
 },
 "nbformat": 4,
 "nbformat_minor": 5
}
